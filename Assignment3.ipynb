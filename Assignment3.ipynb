{
 "cells": [
  {
   "cell_type": "markdown",
   "metadata": {},
   "source": [
    "# Assignment 3"
   ]
  },
  {
   "cell_type": "markdown",
   "metadata": {},
   "source": [
    "# A \n",
    "_18 points_\n",
    "\n",
    "`samples.npy` holds 100 samples. 50 of it were part of training set `1` of `model1.hdf5` and 50 were part of training set `2` of `model2.hdf5`. \n",
    "\n",
    "- For each sample, identfiy which training set this sample was part of. Note, you probably will not be 100% certain - an educated guess is fine. \n",
    "- If you cannot make an educated guess for a sample explain why. It may not be possible to identify each sample!\n",
    "- Explain and argue, why you think samples are part of which training set.\n",
    "- Please provide a list with 100 labels ('1' / '2') indicating the training set you think the respective label was part of. Please use the same order than `samples.npy`.\n",
    "\n",
    "You are free to use any technique to help you in your identification. Please indicate what exactly you did and explain your thinking. You are free to use any information available to you. This includes: \n",
    "\n",
    "- self trained models from previous excercises\n",
    "- models you found online\n",
    "- the MNIST dataset including labels\n"
   ]
  },
  {
   "cell_type": "markdown",
   "metadata": {},
   "source": [
    "## Imports"
   ]
  },
  {
   "cell_type": "code",
   "execution_count": 15,
   "metadata": {},
   "outputs": [],
   "source": [
    "import tensorflow\n",
    "import keras\n",
    "import numpy as np\n",
    "import h5py\n",
    "#numpy.set_printoptions(threshold=numpy.nan)"
   ]
  },
  {
   "cell_type": "markdown",
   "metadata": {},
   "source": [
    "## Modelle laden"
   ]
  },
  {
   "cell_type": "code",
   "execution_count": 16,
   "metadata": {
    "scrolled": true
   },
   "outputs": [],
   "source": [
    "model1 = keras.models.load_model(\"model1.hdf5\")\n",
    "model2 = keras.models.load_model(\"model2.hdf5\")\n",
    "samples = np.load(\"samples.npy\")"
   ]
  },
  {
   "cell_type": "code",
   "execution_count": 17,
   "metadata": {},
   "outputs": [
    {
     "name": "stdout",
     "output_type": "stream",
     "text": [
      "<keras.engine.sequential.Sequential object at 0x000001FFEE261550>\n",
      "<keras.engine.sequential.Sequential object at 0x000001FFEE261DD8>\n"
     ]
    }
   ],
   "source": [
    "print(model1)\n",
    "print(model2)"
   ]
  },
  {
   "cell_type": "markdown",
   "metadata": {},
   "source": [
    "## Alle Samples durch jedes Model predicten lassen"
   ]
  },
  {
   "cell_type": "code",
   "execution_count": 30,
   "metadata": {
    "scrolled": false
   },
   "outputs": [],
   "source": [
    "list1= model1.predict(samples)\n",
    "list2= model2.predict(samples)"
   ]
  },
  {
   "cell_type": "markdown",
   "metadata": {},
   "source": [
    "## Erste Versuche"
   ]
  },
  {
   "cell_type": "code",
   "execution_count": 34,
   "metadata": {
    "scrolled": true
   },
   "outputs": [
    {
     "data": {
      "text/plain": [
       "array([2.2627610e-17, 3.0936546e-05, 8.6963183e-01, 1.2563567e-01,\n",
       "       6.0438538e-06, 7.9650732e-07, 7.0893856e-07, 4.6570455e-03,\n",
       "       2.7137311e-08, 3.6859554e-05], dtype=float32)"
      ]
     },
     "execution_count": 34,
     "metadata": {},
     "output_type": "execute_result"
    }
   ],
   "source": [
    "list1[0]"
   ]
  },
  {
   "cell_type": "code",
   "execution_count": 31,
   "metadata": {},
   "outputs": [
    {
     "name": "stdout",
     "output_type": "stream",
     "text": [
      "(100, 10)\n"
     ]
    }
   ],
   "source": [
    "print(list1.shape)"
   ]
  },
  {
   "cell_type": "markdown",
   "metadata": {},
   "source": [
    "###### Maximum der einzelnen Predictions\n",
    "Größter Wert aus den einzelnen Arrays in der Liste raussuchen und ausgeben als eine Liste"
   ]
  },
  {
   "cell_type": "markdown",
   "metadata": {},
   "source": [
    "###### für Model 1"
   ]
  },
  {
   "cell_type": "code",
   "execution_count": 32,
   "metadata": {},
   "outputs": [
    {
     "name": "stdout",
     "output_type": "stream",
     "text": [
      "[0.8696318  0.9573702  0.9447666  0.54956466 0.88807076 0.9142617\n",
      " 0.9999224  0.99995506 0.9846607  0.99565864 0.9757873  0.99239\n",
      " 0.99619126 0.93111163 0.9524375  0.997673   0.99896276 0.99745995\n",
      " 0.99123913 0.99820554 0.8696318  0.6073655  0.47030014 0.99239\n",
      " 0.9493842  0.5830143  0.78055125 0.94657564 0.995877   0.36482474\n",
      " 0.99674356 0.9852359  0.5086131  0.9989673  0.74784714 0.9989028\n",
      " 0.99852043 0.7474722  0.8618643  0.9957486  0.9819602  0.999059\n",
      " 0.9654726  0.9962095  0.9947129  0.95091844 0.9998048  0.9933176\n",
      " 0.9605646  0.998828   0.99841905 0.99715483 0.9974579  0.5590484\n",
      " 0.9999999  0.662912   0.9948173  0.7192914  0.70821303 0.99999714\n",
      " 0.98970807 0.77160865 0.83430165 0.99825495 0.99009293 0.9927194\n",
      " 0.9996766  0.9991078  0.99903214 0.7882115  0.99855644 0.9922212\n",
      " 0.67719495 0.45806462 0.9559578  0.7964861  0.9878429  0.9992748\n",
      " 0.7004681  0.9355912  0.9926928  0.55540615 0.99114436 0.9995377\n",
      " 0.9945294  0.82202184 0.97592735 0.560487   0.877998   0.99339336\n",
      " 0.9989033  0.70262194 0.99995077 0.9926928  0.98525155 0.97157085\n",
      " 0.6299589  0.9902293  0.9947129  0.9773122 ]\n"
     ]
    }
   ],
   "source": [
    "print(np.max(list1 , axis=1))"
   ]
  },
  {
   "cell_type": "markdown",
   "metadata": {},
   "source": [
    "###### für Model 2"
   ]
  },
  {
   "cell_type": "code",
   "execution_count": 33,
   "metadata": {},
   "outputs": [
    {
     "name": "stdout",
     "output_type": "stream",
     "text": [
      "[0.6024254  0.9918032  0.9213253  0.9996306  0.9951444  0.96013993\n",
      " 0.5399553  0.8401122  0.9979645  0.99999666 0.9836617  0.9999702\n",
      " 0.9787187  0.9998522  0.998131   0.96959865 0.9934103  0.99409664\n",
      " 0.6571976  0.999419   0.6024254  0.87101907 0.9995608  0.9999702\n",
      " 0.9836706  0.9902074  0.77506137 0.66671497 0.99005896 0.9142101\n",
      " 0.9160527  0.99138147 0.9827791  0.9959859  0.99778146 0.93449473\n",
      " 0.9973711  0.9519632  0.99976593 0.9909815  0.9668478  0.9827874\n",
      " 0.99694675 0.9997627  0.99995685 0.99266875 0.9455653  0.99564666\n",
      " 0.9992079  0.98418427 0.9622008  0.90914756 0.96600467 0.9988426\n",
      " 0.6095853  0.673878   0.9934603  0.99623567 0.50446206 0.9854054\n",
      " 0.70774066 0.98468995 0.9995515  0.999534   0.9834517  0.9792914\n",
      " 0.97872514 0.99993765 0.99421483 0.9999311  0.9996432  0.5124568\n",
      " 0.8974928  0.7624721  0.9999931  0.8884114  0.9999882  0.9970458\n",
      " 0.99863595 0.9145329  0.99987996 0.65582955 0.997973   0.76913136\n",
      " 0.999997   0.9821498  0.9980982  0.8876038  0.4878227  0.9999304\n",
      " 0.9996495  0.93942195 0.9411012  0.99987996 0.9999924  0.99991477\n",
      " 0.9962083  0.99649316 0.99995685 0.88992697]\n"
     ]
    }
   ],
   "source": [
    "print(np.max(list2 , axis=1))"
   ]
  },
  {
   "cell_type": "markdown",
   "metadata": {},
   "source": [
    "### Erster Test ohne Bedinungen\n",
    "Entscheidung über den größeren Wert bei der Sicherheit mit welcher angegeben wird, dass ein ermittelter Wert stimmt.\n",
    "Größerer Wert --> Größere Sicherheit --> Wahrscheinlichkeit, dass das Sample dem Model bekannt ist steigt.\n",
    "Ich mache mir hierbei den Overfit zu Nutzen. "
   ]
  },
  {
   "cell_type": "code",
   "execution_count": 61,
   "metadata": {},
   "outputs": [],
   "source": [
    "list1_Max = np.max(list1, axis=1)\n",
    "list2_Max = np.max(list2, axis=1)"
   ]
  },
  {
   "cell_type": "markdown",
   "metadata": {},
   "source": [
    "\n",
    "For-Schleife zum vergleichen der beiden Werte in Liste 1 und Liste 2 zum ermitteln welches Model sich sicherer ist das Sample zu erkennen."
   ]
  },
  {
   "cell_type": "code",
   "execution_count": 67,
   "metadata": {},
   "outputs": [],
   "source": [
    "liste = list()\n",
    "for x in range (len(list1_Max)):\n",
    "    \n",
    "    if list1_Max[x] > list2_Max[x]:\n",
    "        liste.append(1)\n",
    "    else:\n",
    "        liste.append(2)"
   ]
  },
  {
   "cell_type": "code",
   "execution_count": 68,
   "metadata": {},
   "outputs": [
    {
     "data": {
      "text/plain": [
       "[1,\n",
       " 2,\n",
       " 1,\n",
       " 2,\n",
       " 2,\n",
       " 2,\n",
       " 1,\n",
       " 1,\n",
       " 2,\n",
       " 2,\n",
       " 2,\n",
       " 2,\n",
       " 1,\n",
       " 2,\n",
       " 2,\n",
       " 1,\n",
       " 1,\n",
       " 1,\n",
       " 1,\n",
       " 2,\n",
       " 1,\n",
       " 2,\n",
       " 2,\n",
       " 2,\n",
       " 2,\n",
       " 2,\n",
       " 1,\n",
       " 1,\n",
       " 1,\n",
       " 2,\n",
       " 1,\n",
       " 2,\n",
       " 2,\n",
       " 1,\n",
       " 2,\n",
       " 1,\n",
       " 1,\n",
       " 2,\n",
       " 2,\n",
       " 1,\n",
       " 1,\n",
       " 1,\n",
       " 2,\n",
       " 2,\n",
       " 2,\n",
       " 2,\n",
       " 1,\n",
       " 2,\n",
       " 2,\n",
       " 1,\n",
       " 1,\n",
       " 1,\n",
       " 1,\n",
       " 2,\n",
       " 1,\n",
       " 2,\n",
       " 1,\n",
       " 2,\n",
       " 1,\n",
       " 1,\n",
       " 1,\n",
       " 2,\n",
       " 2,\n",
       " 2,\n",
       " 1,\n",
       " 1,\n",
       " 1,\n",
       " 2,\n",
       " 1,\n",
       " 2,\n",
       " 2,\n",
       " 1,\n",
       " 2,\n",
       " 2,\n",
       " 2,\n",
       " 2,\n",
       " 2,\n",
       " 1,\n",
       " 2,\n",
       " 1,\n",
       " 2,\n",
       " 2,\n",
       " 2,\n",
       " 1,\n",
       " 2,\n",
       " 2,\n",
       " 2,\n",
       " 2,\n",
       " 1,\n",
       " 2,\n",
       " 2,\n",
       " 2,\n",
       " 1,\n",
       " 2,\n",
       " 2,\n",
       " 2,\n",
       " 2,\n",
       " 2,\n",
       " 2,\n",
       " 1]"
      ]
     },
     "execution_count": 68,
     "metadata": {},
     "output_type": "execute_result"
    }
   ],
   "source": [
    "liste"
   ]
  },
  {
   "cell_type": "markdown",
   "metadata": {},
   "source": [
    "###### Ausgabe der Anzahl der einzelnen Einträge für Model 1 und Model 2"
   ]
  },
  {
   "cell_type": "code",
   "execution_count": 72,
   "metadata": {},
   "outputs": [
    {
     "name": "stdout",
     "output_type": "stream",
     "text": [
      "Model 1 hat 41 Einträge\n",
      "Model 2 hat 59 Einträge\n"
     ]
    }
   ],
   "source": [
    "i = 0\n",
    "j = 0\n",
    "\n",
    "for x in range (len(liste)):\n",
    "    if liste[x] == 1:\n",
    "        i=i+1\n",
    "    if liste[x] == 2:\n",
    "        j=j+1\n",
    "print(\"Model 1 hat {} Einträge\".format(i))\n",
    "print(\"Model 2 hat {} Einträge\".format(j))"
   ]
  },
  {
   "cell_type": "markdown",
   "metadata": {},
   "source": [
    "### Neuer Versuch mit 3. Eintrag für ungewisse zuordnung bei bestimmter Differenz\n",
    "Manche Werte sind schwer zuzuordnen, daher wird eine 3. Möglichkeit zur entscheidung gegeben: Werte bei denen die Differenz einen bestimmten Wert unterschreitet"
   ]
  },
  {
   "cell_type": "code",
   "execution_count": 102,
   "metadata": {},
   "outputs": [],
   "source": [
    "liste2 = list()\n",
    "toleranz = 0.005\n",
    "for x in range (len(list1_Max)):\n",
    "    \n",
    "    if list1_Max[x] > list2_Max[x]:\n",
    "        if abs(list1_Max[x] - list2_Max[x]) < toleranz:\n",
    "            liste2.append(3)\n",
    "        else:\n",
    "            liste2.append(1) \n",
    "        \n",
    "    if list1_Max[x] < list2_Max[x]:\n",
    "        if abs(list1_Max[x] - list2_Max[x]) < toleranz:\n",
    "            liste2.append(3)\n",
    "        else:\n",
    "            liste2.append(2)\n",
    "        \n"
   ]
  },
  {
   "cell_type": "code",
   "execution_count": 103,
   "metadata": {
    "scrolled": true
   },
   "outputs": [
    {
     "name": "stdout",
     "output_type": "stream",
     "text": [
      "Model 1 hat 34 Einträge\n",
      "Model 2 hat 51 Einträge\n",
      "Unsicher bei 15 Einträgen\n"
     ]
    }
   ],
   "source": [
    "i = 0\n",
    "j = 0\n",
    "k = 0\n",
    "for x in range (len(liste)):\n",
    "    if liste2[x] == 1:\n",
    "        i=i+1\n",
    "    if liste2[x] == 2:\n",
    "        j=j+1\n",
    "    if liste2[x] == 3:\n",
    "        k=k+1\n",
    "print(\"Model 1 hat {} Einträge\".format(i))\n",
    "print(\"Model 2 hat {} Einträge\".format(j))\n",
    "print(\"Unsicher bei {} Einträgen\".format(k))"
   ]
  },
  {
   "cell_type": "markdown",
   "metadata": {},
   "source": [
    "#####  Es sind Definitiv einige Zuordnungen falsch"
   ]
  },
  {
   "cell_type": "code",
   "execution_count": 104,
   "metadata": {},
   "outputs": [
    {
     "data": {
      "text/plain": [
       "[1,\n",
       " 2,\n",
       " 1,\n",
       " 2,\n",
       " 2,\n",
       " 2,\n",
       " 1,\n",
       " 1,\n",
       " 2,\n",
       " 3,\n",
       " 2,\n",
       " 2,\n",
       " 1,\n",
       " 2,\n",
       " 2,\n",
       " 1,\n",
       " 1,\n",
       " 3,\n",
       " 1,\n",
       " 3,\n",
       " 1,\n",
       " 2,\n",
       " 2,\n",
       " 2,\n",
       " 2,\n",
       " 2,\n",
       " 1,\n",
       " 1,\n",
       " 1,\n",
       " 2,\n",
       " 1,\n",
       " 2,\n",
       " 2,\n",
       " 3,\n",
       " 2,\n",
       " 1,\n",
       " 3,\n",
       " 2,\n",
       " 2,\n",
       " 3,\n",
       " 1,\n",
       " 1,\n",
       " 2,\n",
       " 3,\n",
       " 2,\n",
       " 2,\n",
       " 1,\n",
       " 3,\n",
       " 2,\n",
       " 1,\n",
       " 1,\n",
       " 1,\n",
       " 1,\n",
       " 2,\n",
       " 1,\n",
       " 2,\n",
       " 3,\n",
       " 2,\n",
       " 1,\n",
       " 1,\n",
       " 1,\n",
       " 2,\n",
       " 2,\n",
       " 3,\n",
       " 1,\n",
       " 1,\n",
       " 1,\n",
       " 3,\n",
       " 3,\n",
       " 2,\n",
       " 3,\n",
       " 1,\n",
       " 2,\n",
       " 2,\n",
       " 2,\n",
       " 2,\n",
       " 2,\n",
       " 3,\n",
       " 2,\n",
       " 1,\n",
       " 2,\n",
       " 2,\n",
       " 2,\n",
       " 1,\n",
       " 2,\n",
       " 2,\n",
       " 2,\n",
       " 2,\n",
       " 1,\n",
       " 2,\n",
       " 3,\n",
       " 2,\n",
       " 1,\n",
       " 2,\n",
       " 2,\n",
       " 2,\n",
       " 2,\n",
       " 2,\n",
       " 2,\n",
       " 1]"
      ]
     },
     "execution_count": 104,
     "metadata": {},
     "output_type": "execute_result"
    }
   ],
   "source": [
    "liste2"
   ]
  },
  {
   "cell_type": "markdown",
   "metadata": {},
   "source": [
    "##### Bei allen Einträgen welche mit 3 markiert wurden ist eine Zurdnung zwar möglich aber bei so kappen Ergebnissen nicht mehr als \"Educated\" zu bezeichnen.\n",
    "Die sobald die Differenz einen Wert unterschreitet(hier im Beispiel 0,5%) sind sich beide Modelle ähnlich sicher die richtige zuordnung getroffen zu haben, ob diese auch der Wahrheit entspricht ist nebensächlich, da es nur darum geht ob das Model die Daten schon gesehen hat. Das ist mit sehr hoher Wahrscheinlichkeit der Fall wenn das Model sich sicher ist mit seiner Einordnung richtig zu liegen."
   ]
  },
  {
   "cell_type": "code",
   "execution_count": null,
   "metadata": {},
   "outputs": [],
   "source": []
  }
 ],
 "metadata": {
  "kernelspec": {
   "display_name": "Python 3",
   "language": "python",
   "name": "python3"
  },
  "language_info": {
   "codemirror_mode": {
    "name": "ipython",
    "version": 3
   },
   "file_extension": ".py",
   "mimetype": "text/x-python",
   "name": "python",
   "nbconvert_exporter": "python",
   "pygments_lexer": "ipython3",
   "version": "3.5.6"
  }
 },
 "nbformat": 4,
 "nbformat_minor": 2
}
