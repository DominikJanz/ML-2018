{
 "cells": [
  {
   "cell_type": "markdown",
   "metadata": {},
   "source": [
    "# C\n",
    "_5 points_\n",
    "\n",
    "- Describe challenges you faced in A and B and how you solved it."
   ]
  },
  {
   "cell_type": "markdown",
   "metadata": {},
   "source": [
    "## A\n",
    "Das schwierigste an Aufgabe A war es zu entscheiden ab wann eine Zuordnung ausreichend genau ist. \n",
    "Da es etliche Möglichkeiten gab diese Aufgabe zu lösen musste man sich zu Beginn für eine Methode entscheiden. \n",
    "Ich habe mich hier für eine recht einfache Methode entschieden bei der ich davon ausgehe, dass die Modelle \"wissen was sie tun\" und darauf vertraue, dass alle Werte richtig zugeordnet wurden. Dadurch spare ich mir das rechenaufwendige Durchsuchen des MNIST Datensatz nach den passenden Labels.\n",
    "\n",
    "Was die Genauigkeit angeht habe ich mir schwer getan ab wann ein Model sich definitv sicherer ist als das andere. Am Ende habe ich mich durch ausprobieren verschiedener Prozentwerte für 0,5% entschieden. Damit wurden noch die meisten Werte einem Model zugeordnet aber die extrem unsicheren aussortiert."
   ]
  },
  {
   "cell_type": "markdown",
   "metadata": {},
   "source": [
    "## B\n",
    "In Aufgabe B war meine Herausforderung doch noch auf das MNIST Datenset zugreifen zu müssen um eine genauere Aussage treffen zu können. \n",
    "Dadurch musste ich die Arbeit die ich in Aufgabe A gespart hatte doch noch ausführen. Ein weiteres Problem war es, dass ich etliche Listen hatte welche ich zusammen bringen musste. Gelöst habe ich das mit einem Dataframe. "
   ]
  },
  {
   "cell_type": "code",
   "execution_count": null,
   "metadata": {},
   "outputs": [],
   "source": []
  }
 ],
 "metadata": {
  "kernelspec": {
   "display_name": "Python 3",
   "language": "python",
   "name": "python3"
  },
  "language_info": {
   "codemirror_mode": {
    "name": "ipython",
    "version": 3
   },
   "file_extension": ".py",
   "mimetype": "text/x-python",
   "name": "python",
   "nbconvert_exporter": "python",
   "pygments_lexer": "ipython3",
   "version": "3.5.6"
  }
 },
 "nbformat": 4,
 "nbformat_minor": 2
}
